{
 "cells": [
  {
   "cell_type": "code",
   "execution_count": 6,
   "metadata": {},
   "outputs": [
    {
     "name": "stdout",
     "output_type": "stream",
     "text": [
      "[1, 2, 3, 4, 5]\n"
     ]
    }
   ],
   "source": [
    "lista_1 = [1, 2, 3, 4, 5]\n",
    "\n",
    "for index, x in enumerate(lista_1):\n",
    "    x = x * 2\n",
    "\n",
    "print(lista_1)"
   ]
  },
  {
   "cell_type": "code",
   "execution_count": 19,
   "metadata": {},
   "outputs": [
    {
     "name": "stdout",
     "output_type": "stream",
     "text": [
      "States(node=<Node.OCCUPIED: 3>, destinies=[<Destiny.AVAILABLE: 1>, <Destiny.NOT_AVAILABLE: 2>])\n",
      "REST\n",
      "[<Destiny.AVAILABLE: 1>, <Destiny.NOT_AVAILABLE: 2>]\n",
      "New states1:  States(node=<Node.REST: 1>, destinies=[<Destiny.NOT_AVAILABLE: 2>, <Destiny.NOT_AVAILABLE: 2>])\n",
      "New states1:  States(node=<Node.REST: 1>, destinies=[<Destiny.NOT_AVAILABLE: 2>, <Destiny.NOT_AVAILABLE: 2>])\n",
      "New states2:  States(node=<Node.REST: 1>, destinies=[<Destiny.NOT_AVAILABLE: 2>, <Destiny.NOT_AVAILABLE: 2>])\n",
      "States:  States(node=<Node.OCCUPIED: 3>, destinies=[<Destiny.AVAILABLE: 1>, <Destiny.NOT_AVAILABLE: 2>])\n",
      "New states4:  States(node=<Node.REST: 1>, destinies=[<Destiny.NOT_AVAILABLE: 2>, <Destiny.NOT_AVAILABLE: 2>])\n"
     ]
    }
   ],
   "source": [
    "import copy\n",
    "from dataclasses import dataclass\n",
    "from enum import Enum\n",
    "from hmac import new\n",
    "from typing import List\n",
    "\n",
    "\n",
    "@dataclass\n",
    "class States:\n",
    "    class Node(Enum):\n",
    "        REST = 1\n",
    "        RESERVED = 2\n",
    "        OCCUPIED = 3\n",
    "        # SENDING = 4\n",
    "\n",
    "    class Destiny(Enum):\n",
    "        AVAILABLE = 1\n",
    "        NOT_AVAILABLE = 2\n",
    "\n",
    "    node: Node\n",
    "    destinies: List[Destiny]\n",
    "\n",
    "\n",
    "states = States(States.Node.OCCUPIED, [States.Destiny.AVAILABLE, States.Destiny.NOT_AVAILABLE])\n",
    "\n",
    "print(states)\n",
    "\n",
    "match states:\n",
    "    case States(States.Node.OCCUPIED, destinies=destinies):\n",
    "        print(\"REST\")\n",
    "        print(destinies)\n",
    "        for index, destiny in enumerate(destinies):\n",
    "            if destiny == States.Destiny.AVAILABLE:\n",
    "                new_destinies = copy.deepcopy(destinies)\n",
    "                new_destinies[index] = States.Destiny.NOT_AVAILABLE\n",
    "                new_states = States(States.Node.REST, new_destinies)\n",
    "            \n",
    "            print(\"New states1: \", new_states)\n",
    "\n",
    "        print(\"New states2: \", new_states)\n",
    "\n",
    "print(\"States: \", states)\n",
    "print(\"New states4: \", new_states)\n"
   ]
  },
  {
   "cell_type": "code",
   "execution_count": 14,
   "metadata": {},
   "outputs": [
    {
     "name": "stdout",
     "output_type": "stream",
     "text": [
      "{<TestEnum.A: 1>: 1, <TestEnum.B: 2>: 0, <TestEnum.C: 3>: 0}\n"
     ]
    }
   ],
   "source": [
    "from calendar import c\n",
    "from typing import TypeVar, Generic, List, Dict\n",
    "from enum import Enum\n",
    "\n",
    "class TestEnum(Enum):\n",
    "    A = 1\n",
    "    B = 2\n",
    "    C = 3\n",
    "\n",
    "T = TypeVar(\"T\")\n",
    "\n",
    "\n",
    "class CounterController(Generic[T]):\n",
    "    def __init__(self, counters_indexes: List[T]):\n",
    "        self.counter_indexes = counters_indexes\n",
    "        self.counters: Dict[T, int] = {}\n",
    "\n",
    "        for counter_index in self.counter_indexes:\n",
    "            self.counters[counter_index] = 0\n",
    "\n",
    "    def increment(self, counter_index: T):\n",
    "        self.counters[counter_index] += 1\n",
    "\n",
    "\n",
    "counter = CounterController(TestEnum)\n",
    "\n",
    "counter.increment(TestEnum.A)\n",
    "\n",
    "# counter.increment(TestEnum.B)\n",
    "\n",
    "print(counter.counters)"
   ]
  },
  {
   "cell_type": "code",
   "execution_count": 57,
   "metadata": {},
   "outputs": [
    {
     "name": "stdout",
     "output_type": "stream",
     "text": [
      "Summaries:\n",
      "../data/simulations/results/01-02-2024_09-45-21.csv                    - adf1436f746c71997ca32c7367a29147c037c77c - False\n",
      "../data/simulations/results/20-01-2024_12-00-00.csv                    - e03e7646fb50d9aa50f7abba1003155136a9676b - False\n",
      "../data/simulations/results/25-01-2024_12-22-56.csv                    - 94977d632eb289b32b2cd41861320d550d2de8cd - False\n",
      "../data/simulations/results/25-01-2024_13-42-25.csv                    - fe7b9b64733e49066a9ee8a66f6c4bb02357c1c3 - False\n",
      "../data/simulations/results/25-01-2024_14-01-13.csv                    - 901a9c01cd75dc02dd1eaecdafdd3aed02ade734 - False\n",
      "../data/simulations/results/30-01-2024_13-16-19.csv                    - a75d1a25fa225ce8fdce22b320ae3dcdefad8d6c - False\n",
      "../data/simulations/results/31-01-2024_13-19-55.csv                    - 46086a7ddc00815ca986030fcbaaa6a4ac2f5a15 - False\n",
      "../data/simulations/results/31-01-2024_13-21-16.csv                    - ff2ad37954ef2a55d5dbf8ee28ff5b78ad7e6426 - False\n",
      "../data/simulations/results/31-01-2024_17-47-31.csv                    - b93a644db36e5d679dd36501b41ea613150a0bd7 - False\n",
      "Checking date:\n",
      "2024-02-01 11:00:44.113611\n"
     ]
    }
   ],
   "source": [
    "# Delete repeated results in the results folder\n",
    "\n",
    "import datetime\n",
    "import os\n",
    "import subprocess\n",
    "\n",
    "\n",
    "results_folder = \"../data/simulations/results\"\n",
    "\n",
    "results_files = []\n",
    "\n",
    "results_files_checksum = []\n",
    "\n",
    "for file in os.listdir(results_folder):\n",
    "    if file.endswith(\".csv\"):\n",
    "        file_path = os.path.join(results_folder, file)\n",
    "        results_files.append(file_path)\n",
    "\n",
    "results_files.sort()\n",
    "\n",
    "for file_dir in results_files:\n",
    "    checksum_process = subprocess.run(\n",
    "        [\"openssl\", \"dgst\", f\"-SHA1\", file_dir],\n",
    "        stdout=subprocess.PIPE,\n",
    "        stderr=subprocess.PIPE,\n",
    "        universal_newlines=True,\n",
    "    )\n",
    "    results_files_checksum.append(checksum_process.stdout.split(\" \")[-1].split(\"\\n\")[0])\n",
    "\n",
    "results_files_to_delete = [False for _ in results_files_checksum]\n",
    "\n",
    "for index, checksum in enumerate(results_files_checksum):\n",
    "    if results_files_to_delete[index]:\n",
    "        continue\n",
    "    if index == len(results_files_checksum) - 1:\n",
    "        break\n",
    "    for index2, checksum2 in enumerate(results_files_checksum[index + 1 :], index + 1):\n",
    "        if checksum == checksum2:\n",
    "            results_files_to_delete[index2] = True\n",
    "\n",
    "print(\"Summaries:\")\n",
    "for index, file in enumerate(results_files):\n",
    "    print(f\"{file: <70s} - {results_files_checksum[index]} - {results_files_to_delete[index]}\")\n",
    "\n",
    "time_of_check = datetime.datetime.now()\n",
    "\n",
    "print(\"Checking date:\")\n",
    "print(time_of_check)"
   ]
  },
  {
   "cell_type": "code",
   "execution_count": 58,
   "metadata": {},
   "outputs": [
    {
     "name": "stdout",
     "output_type": "stream",
     "text": [
      "Checking date\n",
      "Actual date: 2024-02-01 11:00:46.213675\n",
      "Last checking date: 2024-02-01 11:00:44.113611\n",
      "Elapsed time: 0:00:02.100064\n",
      "Are you sure you want to delete the files? (y/n)\n",
      "Confirm delete with a123\n"
     ]
    }
   ],
   "source": [
    "\n",
    "\n",
    "actual_time = datetime.datetime.now()\n",
    "\n",
    "print(\"Checking date\")\n",
    "print(f\"Actual date: {actual_time}\")\n",
    "print(f\"Last checking date: {time_of_check}\")\n",
    "print(f\"Elapsed time: {(actual_time - time_of_check)}\")\n",
    "\n",
    "if actual_time - time_of_check > datetime.timedelta(minutes=0.5):\n",
    "    raise Exception(\"Last files check was more than 30 seconds ago\")\n",
    "\n",
    "print(\"Are you sure you want to delete the files? (y/n)\", flush=True)\n",
    "answer = input()\n",
    "\n",
    "if answer == \"y\":\n",
    "    print(\"Confirm delete with a123\", flush=True)\n",
    "    answer = input()\n",
    "\n",
    "    if answer == \"a123\":\n",
    "        for index, delete in enumerate(results_files_to_delete):\n",
    "            if delete:\n",
    "                os.remove(results_files[index])\n"
   ]
  },
  {
   "cell_type": "code",
   "execution_count": 4,
   "metadata": {},
   "outputs": [
    {
     "name": "stdout",
     "output_type": "stream",
     "text": [
      "{0: [34, 12, 34], 1: [23, 23], 2: [12, 34]}\n"
     ]
    }
   ],
   "source": [
    "results = {\n",
    "    \"asdf\": {0: 34, 1: 23, 2: 12},\n",
    "    \"qwer\": {0: 12, 2: 34},\n",
    "    \"zxcv\": {0: 34, 1: 23},\n",
    "}\n",
    "\n",
    "objective = {0: [34, 12, 34], 1: [23, None, 23], 2: [12, 34, None]}\n",
    "\n",
    "from collections import defaultdict\n",
    "\n",
    "dd = {}\n",
    "\n",
    "for d in results.values():  # you can list as many input dicts as you want here\n",
    "    for key, value in d.items():\n",
    "        if dd.get(key) is None:\n",
    "            dd[key] = []\n",
    "        dd[key].append(value)\n",
    "\n",
    "print(dd)\n",
    "\n"
   ]
  },
  {
   "cell_type": "code",
   "outputs": [],
   "source": [
    "class TestEnum(Enum):\n",
    "    A = 1\n",
    "    B = 2\n",
    "    C = 3\n",
    "    \n",
    "enum = TestEnum.A\n",
    "\n",
    "print(enum)\n",
    "\n",
    "print(enum.value)"
   ],
   "metadata": {
    "collapsed": false,
    "is_executing": true
   }
  }
 ],
 "metadata": {
  "kernelspec": {
   "display_name": ".venv",
   "language": "python",
   "name": "python3"
  },
  "language_info": {
   "codemirror_mode": {
    "name": "ipython",
    "version": 3
   },
   "file_extension": ".py",
   "mimetype": "text/x-python",
   "name": "python",
   "nbconvert_exporter": "python",
   "pygments_lexer": "ipython3",
   "version": "3.11.1"
  }
 },
 "nbformat": 4,
 "nbformat_minor": 2
}
