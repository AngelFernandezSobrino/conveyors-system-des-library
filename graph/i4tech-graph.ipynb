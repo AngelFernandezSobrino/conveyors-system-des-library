{
 "cells": [
  {
   "cell_type": "code",
   "execution_count": 20,
   "metadata": {},
   "outputs": [],
   "source": [
    "import pyvis as vis  # type: ignore\n",
    "import networkx as nx  # type: ignore"
   ]
  },
  {
   "cell_type": "code",
   "execution_count": 21,
   "metadata": {},
   "outputs": [],
   "source": [
    "# List of nodes\n",
    "# PT01\n",
    "# PT02\n",
    "# PT03\n",
    "# PT04\n",
    "# PT05\n",
    "# PT06\n",
    "# PT07\n",
    "# PT08\n",
    "# PT09\n",
    "# PT10\n",
    "# PT11\n",
    "# PT12\n",
    "# PT13\n",
    "# PT14\n",
    "# PT15\n",
    "# PT16\n",
    "# PT17\n",
    "# DIR01\n",
    "# DIR02\n",
    "# DIR03\n",
    "# DIR04\n",
    "# DIR05\n",
    "# DIR06\n",
    "# DIR07\n",
    "# DIR08\n",
    "# DIR09\n",
    "# DIR10\n",
    "# DIR11\n",
    "# DIR12\n",
    "# DIR13\n",
    "# DIR14\n",
    "# DIR15\n",
    "# DIR16\n",
    "# DIR17\n",
    "# DIR18\n",
    "# DIR19\n",
    "# DIR20\n",
    "# DIR21\n",
    "\n",
    "\n",
    "# List of each nodes edges destination\n",
    "# DIR01\t\n",
    "# PT03\t\n",
    "# DIR02\t\n",
    "# DIR04\t\n",
    "# DIR05\tDIR08\n",
    "# DIR09\t\n",
    "# PT08\t\n",
    "# DIR10\t\n",
    "# DIR11\tDIR14\n",
    "# DIR13\tDIR15\n",
    "# DIR16\t\n",
    "# DIR18\t\n",
    "# DIR19\t\n",
    "# PT15\t\n",
    "# DIR20\t\n",
    "# PT17\tDIR07\n",
    "# DIR21\t\n",
    "# PT02\t\n",
    "# DIR03\t\n",
    "# PT04\t\n",
    "# PT05\t\n",
    "# DIR06\t\n",
    "# PT06\t\n",
    "# PT04\t\n",
    "# PT17\t\n",
    "# PT07\t\n",
    "# PT09\t\n",
    "# DIR12\t\n",
    "# PT10\t\n",
    "# PT14\t\n",
    "# PT11\t\n",
    "# PT12\t\n",
    "# DIR17\t\n",
    "# PT12\t\n",
    "# PT13\t\n",
    "# PT14\t\n",
    "# PT16\t\n",
    "# PT07\t\n",
    "\n",
    "\n",
    "\n",
    "nodes = [\n",
    "    \"PT01\", \"PT02\", \"PT03\", \"PT04\", \"PT05\", \"PT06\", \"PT07\", \"PT08\", \"PT09\", \"PT10\", \"PT11\", \"PT12\", \"PT13\", \"PT14\", \"PT15\", \"PT16\", \"PT17\", \"DIR01\", \"DIR02\", \"DIR03\", \"DIR04\", \"DIR05\", \"DIR06\", \"DIR07\", \"DIR08\", \"DIR09\", \"DIR10\", \"DIR11\", \"DIR12\", \"DIR13\", \"DIR14\", \"DIR15\", \"DIR16\", \"DIR17\", \"DIR18\", \"DIR19\", \"DIR20\", \"DIR21\"\n",
    "]\n",
    "\n",
    "edges = [[\"DIR01\"], [\"PT03\"], [\"DIR02\"], [\"DIR04\"], [\"DIR05\", \"DIR08\"], [\"DIR09\"], [\"PT08\"], [\"DIR10\"], [\"DIR11\", \"DIR14\"], [\"DIR13\", \"DIR15\"], [\"DIR16\"], [\"DIR18\"], [\"DIR19\"], [\"PT15\"], [\"DIR20\"], [\"PT17\", \"DIR07\"], [\"DIR21\"], [\"PT02\"], [\"DIR03\"], [\"PT04\"], [\"PT05\"], [\"DIR06\"], [\"PT06\"], [\"PT04\"], [\"PT17\"], [\"PT07\"], [\"PT09\"], [\"DIR12\"], [\"PT10\"], [\"PT14\"], [\"PT11\"], [\"PT12\"], [\"DIR17\"], [\"PT12\"], [\"PT13\"], [\"PT14\"], [\"PT16\"], [\"PT07\"]]"
   ]
  },
  {
   "cell_type": "code",
   "execution_count": 49,
   "metadata": {},
   "outputs": [
    {
     "name": "stdout",
     "output_type": "stream",
     "text": [
      "graph-i4tech.html\n"
     ]
    },
    {
     "name": "stderr",
     "output_type": "stream",
     "text": [
      "Start : Este comando no se puede ejecutar debido al error: El sistema no puede encontrar el archivo especificado.\n",
      "En l�nea: 1 Car�cter: 1\n",
      "+ Start \"/home/angel/git/manufacturing-layout-optimization-framework/gr ...\n",
      "+ ~~~~~~~~~~~~~~~~~~~~~~~~~~~~~~~~~~~~~~~~~~~~~~~~~~~~~~~~~~~~~~~~~~~~~\n",
      "    + CategoryInfo          : InvalidOperation: (:) [Start-Process], InvalidOperationException\n",
      "    + FullyQualifiedErrorId : InvalidOperationException,Microsoft.PowerShell.Commands.StartProcessCommand\n",
      " \n"
     ]
    }
   ],
   "source": [
    "# Print graph again\n",
    "\n",
    "graph_viewer_2 = vis.network.Network(height=\"1000px\")\n",
    "graph_generator_2 = nx.Graph()\n",
    "\n",
    "for node_index, node in enumerate(nodes):\n",
    "    graph_generator_2.add_node(\n",
    "        node,\n",
    "        label=node,\n",
    "        size=15\n",
    "    )\n",
    "\n",
    "for node_index, node_edges in enumerate(edges):\n",
    "    for edge in node_edges:\n",
    "        graph_generator_2.add_edge(nodes[node_index], edge)\n",
    "\n",
    "graph_viewer_2.from_nx(graph_generator_2)\n",
    "graph_viewer_2.barnes_hut(gravity=-1000, central_gravity=0.5, spring_length=50, spring_strength=0.05, damping=0.09, overlap=0)\n",
    "graph_viewer_2.show(\"graph-i4tech.html\", notebook=False)"
   ]
  }
 ],
 "metadata": {
  "kernelspec": {
   "display_name": ".venv",
   "language": "python",
   "name": "python3"
  },
  "language_info": {
   "codemirror_mode": {
    "name": "ipython",
    "version": 3
   },
   "file_extension": ".py",
   "mimetype": "text/x-python",
   "name": "python",
   "nbconvert_exporter": "python",
   "pygments_lexer": "ipython3",
   "version": "3.11.1"
  }
 },
 "nbformat": 4,
 "nbformat_minor": 2
}
