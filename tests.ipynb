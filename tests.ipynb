{
 "cells": [
  {
   "cell_type": "code",
   "execution_count": 6,
   "metadata": {},
   "outputs": [
    {
     "name": "stdout",
     "output_type": "stream",
     "text": [
      "[1, 2, 3, 4, 5]\n"
     ]
    }
   ],
   "source": [
    "lista_1 = [1, 2, 3, 4, 5]\n",
    "\n",
    "for index, x in enumerate(lista_1):\n",
    "    x = x * 2\n",
    "\n",
    "print(lista_1)"
   ]
  },
  {
   "cell_type": "code",
   "execution_count": 19,
   "metadata": {},
   "outputs": [
    {
     "name": "stdout",
     "output_type": "stream",
     "text": [
      "States(node=<Node.OCCUPIED: 3>, destinies=[<Destiny.AVAILABLE: 1>, <Destiny.NOT_AVAILABLE: 2>])\n",
      "REST\n",
      "[<Destiny.AVAILABLE: 1>, <Destiny.NOT_AVAILABLE: 2>]\n",
      "New states1:  States(node=<Node.REST: 1>, destinies=[<Destiny.NOT_AVAILABLE: 2>, <Destiny.NOT_AVAILABLE: 2>])\n",
      "New states1:  States(node=<Node.REST: 1>, destinies=[<Destiny.NOT_AVAILABLE: 2>, <Destiny.NOT_AVAILABLE: 2>])\n",
      "New states2:  States(node=<Node.REST: 1>, destinies=[<Destiny.NOT_AVAILABLE: 2>, <Destiny.NOT_AVAILABLE: 2>])\n",
      "States:  States(node=<Node.OCCUPIED: 3>, destinies=[<Destiny.AVAILABLE: 1>, <Destiny.NOT_AVAILABLE: 2>])\n",
      "New states4:  States(node=<Node.REST: 1>, destinies=[<Destiny.NOT_AVAILABLE: 2>, <Destiny.NOT_AVAILABLE: 2>])\n"
     ]
    }
   ],
   "source": [
    "import copy\n",
    "from dataclasses import dataclass\n",
    "from enum import Enum\n",
    "from hmac import new\n",
    "from typing import List\n",
    "\n",
    "\n",
    "@dataclass\n",
    "class States:\n",
    "    class Node(Enum):\n",
    "        REST = 1\n",
    "        RESERVED = 2\n",
    "        OCCUPIED = 3\n",
    "        # SENDING = 4\n",
    "\n",
    "    class Destiny(Enum):\n",
    "        AVAILABLE = 1\n",
    "        NOT_AVAILABLE = 2\n",
    "\n",
    "    node: Node\n",
    "    destinies: List[Destiny]\n",
    "\n",
    "\n",
    "states = States(States.Node.OCCUPIED, [States.Destiny.AVAILABLE, States.Destiny.NOT_AVAILABLE])\n",
    "\n",
    "print(states)\n",
    "\n",
    "match states:\n",
    "    case States(States.Node.OCCUPIED, destinies=destinies):\n",
    "        print(\"REST\")\n",
    "        print(destinies)\n",
    "        for index, destiny in enumerate(destinies):\n",
    "            if destiny == States.Destiny.AVAILABLE:\n",
    "                new_destinies = copy.deepcopy(destinies)\n",
    "                new_destinies[index] = States.Destiny.NOT_AVAILABLE\n",
    "                new_states = States(States.Node.REST, new_destinies)\n",
    "            \n",
    "            print(\"New states1: \", new_states)\n",
    "\n",
    "        print(\"New states2: \", new_states)\n",
    "\n",
    "print(\"States: \", states)\n",
    "print(\"New states4: \", new_states)\n"
   ]
  }
 ],
 "metadata": {
  "kernelspec": {
   "display_name": ".venv",
   "language": "python",
   "name": "python3"
  },
  "language_info": {
   "codemirror_mode": {
    "name": "ipython",
    "version": 3
   },
   "file_extension": ".py",
   "mimetype": "text/x-python",
   "name": "python",
   "nbconvert_exporter": "python",
   "pygments_lexer": "ipython3",
   "version": "3.11.1"
  }
 },
 "nbformat": 4,
 "nbformat_minor": 2
}
